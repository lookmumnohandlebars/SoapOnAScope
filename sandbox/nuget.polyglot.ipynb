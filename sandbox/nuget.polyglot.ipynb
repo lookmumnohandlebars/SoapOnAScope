{
 "cells": [
  {
   "cell_type": "code",
   "execution_count": null,
   "metadata": {
    "vscode": {
     "languageId": "polyglot-notebook"
    }
   },
   "outputs": [],
   "source": [
    "#!r \"SoapOnAScope\"\n",
    "\n",
    "using SoapOnAScope;"
   ]
  }
 ],
 "metadata": {
  "language_info": {
   "name": "python"
  }
 },
 "nbformat": 4,
 "nbformat_minor": 2
}
